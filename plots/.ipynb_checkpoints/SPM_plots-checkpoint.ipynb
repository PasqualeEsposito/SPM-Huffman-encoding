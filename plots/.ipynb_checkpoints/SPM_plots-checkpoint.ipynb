{
 "cells": [
  {
   "cell_type": "code",
   "execution_count": 1,
   "id": "9621a391",
   "metadata": {},
   "outputs": [],
   "source": [
    "import pandas as pd\n",
    "import matplotlib.pyplot as plt"
   ]
  },
  {
   "cell_type": "markdown",
   "id": "ddf491fb",
   "metadata": {},
   "source": [
    "# Plots with IO time"
   ]
  },
  {
   "cell_type": "markdown",
   "id": "44dd2735",
   "metadata": {},
   "source": [
    "## 1 MB file"
   ]
  },
  {
   "cell_type": "markdown",
   "id": "b0a37941",
   "metadata": {},
   "source": [
    "### Sequential time computation"
   ]
  },
  {
   "cell_type": "code",
   "execution_count": 2,
   "id": "a1829558",
   "metadata": {
    "scrolled": true
   },
   "outputs": [],
   "source": [
    "sequential_time = pd.read_csv('../results/seq_results_1MB.csv', index_col=None)"
   ]
  },
  {
   "cell_type": "code",
   "execution_count": 3,
   "id": "cd569221",
   "metadata": {},
   "outputs": [],
   "source": [
    "# Compute the mean of the last column based on the penultimate column\n",
    "sequential_time = sequential_time.groupby(sequential_time.columns[-2])[sequential_time.columns[-1]].mean()"
   ]
  },
  {
   "cell_type": "code",
   "execution_count": 4,
   "id": "b172e7c6",
   "metadata": {},
   "outputs": [],
   "source": [
    "seq_time = sequential_time[0]\n",
    "ideal_time = [[1, seq_time]]\n",
    "\n",
    "for i in range (2, 33, 2):\n",
    "    ideal_time.append([i, seq_time/i])\n",
    "\n",
    "ideal_time = pd.DataFrame(ideal_time, columns=['number of threads', 'Completion time'])"
   ]
  },
  {
   "cell_type": "markdown",
   "id": "351d536f",
   "metadata": {},
   "source": [
    "### Native threads time computation"
   ]
  },
  {
   "cell_type": "code",
   "execution_count": 5,
   "id": "1e676788",
   "metadata": {},
   "outputs": [
    {
     "ename": "FileNotFoundError",
     "evalue": "[Errno 2] No such file or directory: 'SPM-Exam/results/thread_results_1MB.csv'",
     "output_type": "error",
     "traceback": [
      "\u001b[1;31m---------------------------------------------------------------------------\u001b[0m",
      "\u001b[1;31mFileNotFoundError\u001b[0m                         Traceback (most recent call last)",
      "\u001b[1;32m~\\AppData\\Local\\Temp\\ipykernel_28772\\2675265015.py\u001b[0m in \u001b[0;36m<module>\u001b[1;34m\u001b[0m\n\u001b[1;32m----> 1\u001b[1;33m \u001b[0mthread_time\u001b[0m \u001b[1;33m=\u001b[0m \u001b[0mpd\u001b[0m\u001b[1;33m.\u001b[0m\u001b[0mread_csv\u001b[0m\u001b[1;33m(\u001b[0m\u001b[1;34m'SPM-Exam/results/thread_results_1MB.csv'\u001b[0m\u001b[1;33m,\u001b[0m \u001b[0mindex_col\u001b[0m\u001b[1;33m=\u001b[0m\u001b[1;32mNone\u001b[0m\u001b[1;33m)\u001b[0m\u001b[1;33m\u001b[0m\u001b[1;33m\u001b[0m\u001b[0m\n\u001b[0m",
      "\u001b[1;32mC:\\ProgramData\\Anaconda3\\lib\\site-packages\\pandas\\util\\_decorators.py\u001b[0m in \u001b[0;36mwrapper\u001b[1;34m(*args, **kwargs)\u001b[0m\n\u001b[0;32m    309\u001b[0m                     \u001b[0mstacklevel\u001b[0m\u001b[1;33m=\u001b[0m\u001b[0mstacklevel\u001b[0m\u001b[1;33m,\u001b[0m\u001b[1;33m\u001b[0m\u001b[1;33m\u001b[0m\u001b[0m\n\u001b[0;32m    310\u001b[0m                 )\n\u001b[1;32m--> 311\u001b[1;33m             \u001b[1;32mreturn\u001b[0m \u001b[0mfunc\u001b[0m\u001b[1;33m(\u001b[0m\u001b[1;33m*\u001b[0m\u001b[0margs\u001b[0m\u001b[1;33m,\u001b[0m \u001b[1;33m**\u001b[0m\u001b[0mkwargs\u001b[0m\u001b[1;33m)\u001b[0m\u001b[1;33m\u001b[0m\u001b[1;33m\u001b[0m\u001b[0m\n\u001b[0m\u001b[0;32m    312\u001b[0m \u001b[1;33m\u001b[0m\u001b[0m\n\u001b[0;32m    313\u001b[0m         \u001b[1;32mreturn\u001b[0m \u001b[0mwrapper\u001b[0m\u001b[1;33m\u001b[0m\u001b[1;33m\u001b[0m\u001b[0m\n",
      "\u001b[1;32mC:\\ProgramData\\Anaconda3\\lib\\site-packages\\pandas\\io\\parsers\\readers.py\u001b[0m in \u001b[0;36mread_csv\u001b[1;34m(filepath_or_buffer, sep, delimiter, header, names, index_col, usecols, squeeze, prefix, mangle_dupe_cols, dtype, engine, converters, true_values, false_values, skipinitialspace, skiprows, skipfooter, nrows, na_values, keep_default_na, na_filter, verbose, skip_blank_lines, parse_dates, infer_datetime_format, keep_date_col, date_parser, dayfirst, cache_dates, iterator, chunksize, compression, thousands, decimal, lineterminator, quotechar, quoting, doublequote, escapechar, comment, encoding, encoding_errors, dialect, error_bad_lines, warn_bad_lines, on_bad_lines, delim_whitespace, low_memory, memory_map, float_precision, storage_options)\u001b[0m\n\u001b[0;32m    676\u001b[0m     \u001b[0mkwds\u001b[0m\u001b[1;33m.\u001b[0m\u001b[0mupdate\u001b[0m\u001b[1;33m(\u001b[0m\u001b[0mkwds_defaults\u001b[0m\u001b[1;33m)\u001b[0m\u001b[1;33m\u001b[0m\u001b[1;33m\u001b[0m\u001b[0m\n\u001b[0;32m    677\u001b[0m \u001b[1;33m\u001b[0m\u001b[0m\n\u001b[1;32m--> 678\u001b[1;33m     \u001b[1;32mreturn\u001b[0m \u001b[0m_read\u001b[0m\u001b[1;33m(\u001b[0m\u001b[0mfilepath_or_buffer\u001b[0m\u001b[1;33m,\u001b[0m \u001b[0mkwds\u001b[0m\u001b[1;33m)\u001b[0m\u001b[1;33m\u001b[0m\u001b[1;33m\u001b[0m\u001b[0m\n\u001b[0m\u001b[0;32m    679\u001b[0m \u001b[1;33m\u001b[0m\u001b[0m\n\u001b[0;32m    680\u001b[0m \u001b[1;33m\u001b[0m\u001b[0m\n",
      "\u001b[1;32mC:\\ProgramData\\Anaconda3\\lib\\site-packages\\pandas\\io\\parsers\\readers.py\u001b[0m in \u001b[0;36m_read\u001b[1;34m(filepath_or_buffer, kwds)\u001b[0m\n\u001b[0;32m    573\u001b[0m \u001b[1;33m\u001b[0m\u001b[0m\n\u001b[0;32m    574\u001b[0m     \u001b[1;31m# Create the parser.\u001b[0m\u001b[1;33m\u001b[0m\u001b[1;33m\u001b[0m\u001b[0m\n\u001b[1;32m--> 575\u001b[1;33m     \u001b[0mparser\u001b[0m \u001b[1;33m=\u001b[0m \u001b[0mTextFileReader\u001b[0m\u001b[1;33m(\u001b[0m\u001b[0mfilepath_or_buffer\u001b[0m\u001b[1;33m,\u001b[0m \u001b[1;33m**\u001b[0m\u001b[0mkwds\u001b[0m\u001b[1;33m)\u001b[0m\u001b[1;33m\u001b[0m\u001b[1;33m\u001b[0m\u001b[0m\n\u001b[0m\u001b[0;32m    576\u001b[0m \u001b[1;33m\u001b[0m\u001b[0m\n\u001b[0;32m    577\u001b[0m     \u001b[1;32mif\u001b[0m \u001b[0mchunksize\u001b[0m \u001b[1;32mor\u001b[0m \u001b[0miterator\u001b[0m\u001b[1;33m:\u001b[0m\u001b[1;33m\u001b[0m\u001b[1;33m\u001b[0m\u001b[0m\n",
      "\u001b[1;32mC:\\ProgramData\\Anaconda3\\lib\\site-packages\\pandas\\io\\parsers\\readers.py\u001b[0m in \u001b[0;36m__init__\u001b[1;34m(self, f, engine, **kwds)\u001b[0m\n\u001b[0;32m    930\u001b[0m \u001b[1;33m\u001b[0m\u001b[0m\n\u001b[0;32m    931\u001b[0m         \u001b[0mself\u001b[0m\u001b[1;33m.\u001b[0m\u001b[0mhandles\u001b[0m\u001b[1;33m:\u001b[0m \u001b[0mIOHandles\u001b[0m \u001b[1;33m|\u001b[0m \u001b[1;32mNone\u001b[0m \u001b[1;33m=\u001b[0m \u001b[1;32mNone\u001b[0m\u001b[1;33m\u001b[0m\u001b[1;33m\u001b[0m\u001b[0m\n\u001b[1;32m--> 932\u001b[1;33m         \u001b[0mself\u001b[0m\u001b[1;33m.\u001b[0m\u001b[0m_engine\u001b[0m \u001b[1;33m=\u001b[0m \u001b[0mself\u001b[0m\u001b[1;33m.\u001b[0m\u001b[0m_make_engine\u001b[0m\u001b[1;33m(\u001b[0m\u001b[0mf\u001b[0m\u001b[1;33m,\u001b[0m \u001b[0mself\u001b[0m\u001b[1;33m.\u001b[0m\u001b[0mengine\u001b[0m\u001b[1;33m)\u001b[0m\u001b[1;33m\u001b[0m\u001b[1;33m\u001b[0m\u001b[0m\n\u001b[0m\u001b[0;32m    933\u001b[0m \u001b[1;33m\u001b[0m\u001b[0m\n\u001b[0;32m    934\u001b[0m     \u001b[1;32mdef\u001b[0m \u001b[0mclose\u001b[0m\u001b[1;33m(\u001b[0m\u001b[0mself\u001b[0m\u001b[1;33m)\u001b[0m\u001b[1;33m:\u001b[0m\u001b[1;33m\u001b[0m\u001b[1;33m\u001b[0m\u001b[0m\n",
      "\u001b[1;32mC:\\ProgramData\\Anaconda3\\lib\\site-packages\\pandas\\io\\parsers\\readers.py\u001b[0m in \u001b[0;36m_make_engine\u001b[1;34m(self, f, engine)\u001b[0m\n\u001b[0;32m   1214\u001b[0m             \u001b[1;31m# \"Union[str, PathLike[str], ReadCsvBuffer[bytes], ReadCsvBuffer[str]]\"\u001b[0m\u001b[1;33m\u001b[0m\u001b[1;33m\u001b[0m\u001b[0m\n\u001b[0;32m   1215\u001b[0m             \u001b[1;31m# , \"str\", \"bool\", \"Any\", \"Any\", \"Any\", \"Any\", \"Any\"\u001b[0m\u001b[1;33m\u001b[0m\u001b[1;33m\u001b[0m\u001b[0m\n\u001b[1;32m-> 1216\u001b[1;33m             self.handles = get_handle(  # type: ignore[call-overload]\n\u001b[0m\u001b[0;32m   1217\u001b[0m                 \u001b[0mf\u001b[0m\u001b[1;33m,\u001b[0m\u001b[1;33m\u001b[0m\u001b[1;33m\u001b[0m\u001b[0m\n\u001b[0;32m   1218\u001b[0m                 \u001b[0mmode\u001b[0m\u001b[1;33m,\u001b[0m\u001b[1;33m\u001b[0m\u001b[1;33m\u001b[0m\u001b[0m\n",
      "\u001b[1;32mC:\\ProgramData\\Anaconda3\\lib\\site-packages\\pandas\\io\\common.py\u001b[0m in \u001b[0;36mget_handle\u001b[1;34m(path_or_buf, mode, encoding, compression, memory_map, is_text, errors, storage_options)\u001b[0m\n\u001b[0;32m    784\u001b[0m         \u001b[1;32mif\u001b[0m \u001b[0mioargs\u001b[0m\u001b[1;33m.\u001b[0m\u001b[0mencoding\u001b[0m \u001b[1;32mand\u001b[0m \u001b[1;34m\"b\"\u001b[0m \u001b[1;32mnot\u001b[0m \u001b[1;32min\u001b[0m \u001b[0mioargs\u001b[0m\u001b[1;33m.\u001b[0m\u001b[0mmode\u001b[0m\u001b[1;33m:\u001b[0m\u001b[1;33m\u001b[0m\u001b[1;33m\u001b[0m\u001b[0m\n\u001b[0;32m    785\u001b[0m             \u001b[1;31m# Encoding\u001b[0m\u001b[1;33m\u001b[0m\u001b[1;33m\u001b[0m\u001b[0m\n\u001b[1;32m--> 786\u001b[1;33m             handle = open(\n\u001b[0m\u001b[0;32m    787\u001b[0m                 \u001b[0mhandle\u001b[0m\u001b[1;33m,\u001b[0m\u001b[1;33m\u001b[0m\u001b[1;33m\u001b[0m\u001b[0m\n\u001b[0;32m    788\u001b[0m                 \u001b[0mioargs\u001b[0m\u001b[1;33m.\u001b[0m\u001b[0mmode\u001b[0m\u001b[1;33m,\u001b[0m\u001b[1;33m\u001b[0m\u001b[1;33m\u001b[0m\u001b[0m\n",
      "\u001b[1;31mFileNotFoundError\u001b[0m: [Errno 2] No such file or directory: 'SPM-Exam/results/thread_results_1MB.csv'"
     ]
    }
   ],
   "source": [
    "thread_time = pd.read_csv('../results/thread_results_1MB.csv', index_col=None)"
   ]
  },
  {
   "cell_type": "code",
   "execution_count": null,
   "id": "35bcddab",
   "metadata": {},
   "outputs": [],
   "source": [
    "# Split the dataframe in two, based on the Completion time (if with or without IO)\n",
    "thread_time_completion = thread_time[thread_time['Completion time'] == 'Completion time']\n",
    "thread_time_no_io = thread_time[thread_time['Completion time'] == 'Completion time (no IO)']\n",
    "\n",
    "thread_time = thread_time_completion"
   ]
  },
  {
   "cell_type": "code",
   "execution_count": null,
   "id": "085e13cd",
   "metadata": {},
   "outputs": [],
   "source": [
    "# Compute the mean of the last column based on the penultimate column\n",
    "thread_time = thread_time.groupby(thread_time.columns[-2])[thread_time.columns[-1]].mean()\n",
    "thread_time_no_io = thread_time_no_io.groupby(thread_time_no_io.columns[-2])[thread_time_no_io.columns[-1]].mean()"
   ]
  },
  {
   "cell_type": "markdown",
   "id": "82074c29",
   "metadata": {},
   "source": [
    "### Fastflow time computation"
   ]
  },
  {
   "cell_type": "code",
   "execution_count": null,
   "id": "85ab703a",
   "metadata": {},
   "outputs": [],
   "source": [
    "## TODO"
   ]
  },
  {
   "cell_type": "markdown",
   "id": "cf9d831d",
   "metadata": {},
   "source": [
    "## Plots"
   ]
  },
  {
   "cell_type": "markdown",
   "id": "9f934d44",
   "metadata": {},
   "source": [
    "### Completion time"
   ]
  },
  {
   "cell_type": "code",
   "execution_count": null,
   "id": "efd5ab50",
   "metadata": {},
   "outputs": [],
   "source": [
    "plt.plot(ideal_time['number of threads'], ideal_time['Completion time']/1e6, c='0.90')\n",
    "\n",
    "plt.plot(thread_time.index, thread_time.values/1e6, marker='o', c='0.60')\n",
    "#plt.plot(ff.index, ff.values, marker='^', c='0.25')\n",
    "plt.xlabel('Threads')\n",
    "plt.ylabel('Completion time (sec)')\n",
    "plt.legend([\"Ideal time\", \"Native threads\", \"FastFlow\"], loc=0, frameon=True)\n",
    "plt.title(\"Completion time (1MB file)\")\n",
    "plt.savefig('Completion_1MB.png', bbox_inches='tight')\n",
    "plt.show()"
   ]
  },
  {
   "cell_type": "markdown",
   "id": "b99e366e",
   "metadata": {},
   "source": [
    "### Speedup"
   ]
  },
  {
   "cell_type": "code",
   "execution_count": null,
   "id": "d12db7df",
   "metadata": {},
   "outputs": [],
   "source": [
    "speedup_thread = []\n",
    "#speedup_ff = []"
   ]
  },
  {
   "cell_type": "code",
   "execution_count": null,
   "id": "a7145bf5",
   "metadata": {},
   "outputs": [],
   "source": [
    "for i in range (0, len(thread_time)):\n",
    "    speedup_thread.append([thread_time.index[i], seq_time/thread_time.iat[i]])\n",
    "    \n",
    "#for i in range (0, len(ff_time)):\n",
    "#    speedup_ff.append([ff_time.index[i], seq_time/ff_time.iat[i]])\n",
    "    \n",
    "speedup_thread = pd.DataFrame(speedup_thread, columns=['Number of threads', 'Speedup'])\n",
    "#speedup_ff = pd.DataFrame(speedup_ff, columns=['Number of threads', 'Speedup'])\n",
    "\n",
    "plt.plot([1, 10], [1, 10], c='0.9')\n",
    "plt.plot(speedup_thread['Number of threads'], speedup_thread['Speedup'], marker='o', c='0.6')\n",
    "#plt.plot(speedup_ff['Number of threads'], speedup_ff['Speedup'], marker='^', c='0.25')\n",
    "\n",
    "plt.ylabel('Speedup factor')\n",
    "plt.xlabel(\"Threads\")\n",
    "plt.legend([\"Ideal speedup\", \"Native threads\", \"FastFlow\"], loc=0, frameon=True)\n",
    "plt.title(\"Speedup (1MB file)\")\n",
    "plt.savefig('Speedup_1MB.png', bbox_inches='tight')\n",
    "plt.show()"
   ]
  },
  {
   "cell_type": "markdown",
   "id": "e0abf5eb",
   "metadata": {},
   "source": [
    "### Scalability"
   ]
  },
  {
   "cell_type": "code",
   "execution_count": null,
   "id": "42ba8306",
   "metadata": {},
   "outputs": [],
   "source": [
    "parallel_time_thread_1 = thread_time.iat[0]\n",
    "#parallel_time_ff_1 = ff_time.iat[0]\n",
    "\n",
    "scalability_thread = []\n",
    "scalability_ff = []"
   ]
  },
  {
   "cell_type": "code",
   "execution_count": null,
   "id": "357bc889",
   "metadata": {},
   "outputs": [],
   "source": [
    "for i in range (0, len(thread_time)):\n",
    "    scalability_thread.append([thread_time.index[i], parallel_time_thread_1/thread_time.iat[i]])\n",
    "\n",
    "#for i in range (0, len(ff_time)):\n",
    "#    scalability_ff.append([ff_time.index[i], parallel_time_ff_1/ff_time.iat[i]])\n",
    "\n",
    "scalability_thread = pd.DataFrame(scalability_thread, columns=['Number of threads', 'Scalability'])\n",
    "#scalability_ff = pd.DataFrame(scalability_ff, columns=['Number of threads', 'Scalability'])\n",
    "\n",
    "plt.plot(scalability_thread['Number of threads'], scalability_thread['Scalability'], marker='o', c='0.6')\n",
    "#plt.plot(scalability_ff['Number of threads'], scalability_ff['Scalability'], marker='^', c='0.15')\n",
    "\n",
    "plt.ylabel(\"Scalability factor\")\n",
    "plt.xlabel(\"Threads\")\n",
    "plt.legend([\"Native threads\", \"Fastflow\"], loc=0, frameon=True)\n",
    "plt.title(\"Scalability (1MB file)\")\n",
    "plt.savefig('Scalability_1MB.png', bbox_inches='tight')\n",
    "plt.show()"
   ]
  },
  {
   "cell_type": "markdown",
   "id": "f6ee85f4",
   "metadata": {},
   "source": [
    "# 10 MB file"
   ]
  },
  {
   "cell_type": "markdown",
   "id": "e14f9ffd",
   "metadata": {},
   "source": [
    "### Sequential time computation"
   ]
  },
  {
   "cell_type": "code",
   "execution_count": null,
   "id": "64a2c3ea",
   "metadata": {},
   "outputs": [],
   "source": [
    "sequential_time = pd.read_csv('SPM-Exam/results/seq_results_10MB.csv', index_col=None)"
   ]
  },
  {
   "cell_type": "code",
   "execution_count": null,
   "id": "93ccc544",
   "metadata": {},
   "outputs": [],
   "source": [
    "# Compute the mean of the last column based on the penultimate column\n",
    "sequential_time = sequential_time.groupby(sequential_time.columns[-2])[sequential_time.columns[-1]].mean()"
   ]
  },
  {
   "cell_type": "code",
   "execution_count": null,
   "id": "436afcb8",
   "metadata": {},
   "outputs": [],
   "source": [
    "seq_time = sequential_time[0]\n",
    "ideal_time = [[1, seq_time]]\n",
    "\n",
    "for i in range (2, 33, 2):\n",
    "    ideal_time.append([i, seq_time/i])\n",
    "\n",
    "ideal_time = pd.DataFrame(ideal_time, columns=['number of threads', 'Completion time'])"
   ]
  },
  {
   "cell_type": "markdown",
   "id": "8db58bbf",
   "metadata": {},
   "source": [
    "### Native threads time computation"
   ]
  },
  {
   "cell_type": "code",
   "execution_count": null,
   "id": "e8f1662d",
   "metadata": {},
   "outputs": [],
   "source": [
    "thread_time = pd.read_csv('SPM-Exam/results/thread_results_10MB.csv', index_col=None)"
   ]
  },
  {
   "cell_type": "code",
   "execution_count": null,
   "id": "d627137c",
   "metadata": {},
   "outputs": [],
   "source": [
    "# Split the dataframe in two, based on the Completion time (if with or without IO)\n",
    "thread_time_completion = thread_time[thread_time['Completion time'] == 'Completion time']\n",
    "thread_time_no_io = thread_time[thread_time['Completion time'] == 'Completion time (no IO)']\n",
    "\n",
    "thread_time = thread_time_completion"
   ]
  },
  {
   "cell_type": "code",
   "execution_count": null,
   "id": "90bfd6ae",
   "metadata": {},
   "outputs": [],
   "source": [
    "# Compute the mean of the last column based on the penultimate column\n",
    "thread_time = thread_time.groupby(thread_time.columns[-2])[thread_time.columns[-1]].mean()\n",
    "thread_time_no_io = thread_time_no_io.groupby(thread_time_no_io.columns[-2])[thread_time_no_io.columns[-1]].mean()"
   ]
  },
  {
   "cell_type": "markdown",
   "id": "12e9e829",
   "metadata": {},
   "source": [
    "### Fastflow time computation"
   ]
  },
  {
   "cell_type": "code",
   "execution_count": null,
   "id": "986566a2",
   "metadata": {},
   "outputs": [],
   "source": [
    "## TODO"
   ]
  },
  {
   "cell_type": "markdown",
   "id": "fa90fa3e",
   "metadata": {},
   "source": [
    "## Plots"
   ]
  },
  {
   "cell_type": "markdown",
   "id": "8125b4d3",
   "metadata": {},
   "source": [
    "### Completion time"
   ]
  },
  {
   "cell_type": "code",
   "execution_count": null,
   "id": "32cf5a8d",
   "metadata": {},
   "outputs": [],
   "source": [
    "plt.plot(ideal_time['number of threads'], ideal_time['Completion time']/1e6, c='0.90')\n",
    "\n",
    "plt.plot(thread_time.index, thread_time.values/1e6, marker='o', c='0.60')\n",
    "#plt.plot(ff.index, ff.values, marker='^', c='0.25')\n",
    "plt.xlabel('Threads')\n",
    "plt.ylabel('Completion time (sec)')\n",
    "plt.legend([\"Ideal time\", \"Native threads\", \"FastFlow\"], loc=0, frameon=True)\n",
    "plt.title(\"Completion time (10MB file)\")\n",
    "plt.savefig('Completion_10MB.png', bbox_inches='tight')\n",
    "plt.show()"
   ]
  },
  {
   "cell_type": "markdown",
   "id": "a29b0b4c",
   "metadata": {},
   "source": [
    "### Speedup"
   ]
  },
  {
   "cell_type": "code",
   "execution_count": null,
   "id": "cacc058f",
   "metadata": {},
   "outputs": [],
   "source": [
    "speedup_thread = []\n",
    "#speedup_ff = []"
   ]
  },
  {
   "cell_type": "code",
   "execution_count": null,
   "id": "109f7f35",
   "metadata": {},
   "outputs": [],
   "source": [
    "for i in range (0, len(thread_time)):\n",
    "    speedup_thread.append([thread_time.index[i], seq_time/thread_time.iat[i]])\n",
    "    \n",
    "#for i in range (0, len(ff_time)):\n",
    "#    speedup_ff.append([ff_time.index[i], seq_time/ff_time.iat[i]])\n",
    "    \n",
    "speedup_thread = pd.DataFrame(speedup_thread, columns=['Number of threads', 'Speedup'])\n",
    "#speedup_ff = pd.DataFrame(speedup_ff, columns=['Number of threads', 'Speedup'])\n",
    "\n",
    "plt.plot([1, 10], [1, 10], c='0.9')\n",
    "plt.plot(speedup_thread['Number of threads'], speedup_thread['Speedup'], marker='o', c='0.6')\n",
    "#plt.plot(speedup_ff['Number of threads'], speedup_ff['Speedup'], marker='^', c='0.25')\n",
    "\n",
    "plt.ylabel('Speedup factor')\n",
    "plt.xlabel(\"Threads\")\n",
    "plt.legend([\"Ideal speedup\", \"Native threads\", \"FastFlow\"], loc=0, frameon=True)\n",
    "plt.title(\"Speedup (10MB file)\")\n",
    "plt.savefig('Speedup_10MB.png', bbox_inches='tight')\n",
    "plt.show()"
   ]
  },
  {
   "cell_type": "markdown",
   "id": "36696bc8",
   "metadata": {},
   "source": [
    "### Scalability"
   ]
  },
  {
   "cell_type": "code",
   "execution_count": null,
   "id": "b307318d",
   "metadata": {},
   "outputs": [],
   "source": [
    "parallel_time_thread_1 = thread_time.iat[0]\n",
    "#parallel_time_ff_1 = ff_time.iat[0]\n",
    "\n",
    "scalability_thread = []\n",
    "scalability_ff = []"
   ]
  },
  {
   "cell_type": "code",
   "execution_count": null,
   "id": "d38836ba",
   "metadata": {},
   "outputs": [],
   "source": [
    "for i in range (0, len(thread_time)):\n",
    "    scalability_thread.append([thread_time.index[i], parallel_time_thread_1/thread_time.iat[i]])\n",
    "\n",
    "#for i in range (0, len(ff_time)):\n",
    "#    scalability_ff.append([ff_time.index[i], parallel_time_ff_1/ff_time.iat[i]])\n",
    "\n",
    "scalability_thread = pd.DataFrame(scalability_thread, columns=['Number of threads', 'Scalability'])\n",
    "#scalability_ff = pd.DataFrame(scalability_ff, columns=['Number of threads', 'Scalability'])\n",
    "\n",
    "plt.plot(scalability_thread['Number of threads'], scalability_thread['Scalability'], marker='o', c='0.6')\n",
    "#plt.plot(scalability_ff['Number of threads'], scalability_ff['Scalability'], marker='^', c='0.15')\n",
    "\n",
    "plt.ylabel(\"Scalability factor\")\n",
    "plt.xlabel(\"Threads\")\n",
    "plt.legend([\"Native threads\", \"Fastflow\"], loc=0, frameon=True)\n",
    "plt.title(\"Scalability (10MB file)\")\n",
    "plt.savefig('Scalability_10MB.png', bbox_inches='tight')\n",
    "plt.show()"
   ]
  },
  {
   "cell_type": "markdown",
   "id": "77102211",
   "metadata": {},
   "source": [
    "# 100 MB file"
   ]
  },
  {
   "cell_type": "markdown",
   "id": "88160365",
   "metadata": {},
   "source": [
    "### Sequential time computation"
   ]
  },
  {
   "cell_type": "code",
   "execution_count": null,
   "id": "e92f409d",
   "metadata": {},
   "outputs": [],
   "source": [
    "sequential_time = pd.read_csv('SPM-Exam/results/seq_results_100MB.csv', index_col=None)"
   ]
  },
  {
   "cell_type": "code",
   "execution_count": null,
   "id": "985b5db4",
   "metadata": {},
   "outputs": [],
   "source": [
    "# Compute the mean of the last column based on the penultimate column\n",
    "sequential_time = sequential_time.groupby(sequential_time.columns[-2])[sequential_time.columns[-1]].mean()"
   ]
  },
  {
   "cell_type": "code",
   "execution_count": null,
   "id": "c2b2f487",
   "metadata": {},
   "outputs": [],
   "source": [
    "seq_time = sequential_time[0]\n",
    "ideal_time = [[1, seq_time]]\n",
    "\n",
    "for i in range (2, 33, 2):\n",
    "    ideal_time.append([i, seq_time/i])\n",
    "\n",
    "ideal_time = pd.DataFrame(ideal_time, columns=['number of threads', 'Completion time'])"
   ]
  },
  {
   "cell_type": "markdown",
   "id": "f824c460",
   "metadata": {},
   "source": [
    "### Native threads time computation"
   ]
  },
  {
   "cell_type": "code",
   "execution_count": null,
   "id": "3c498c4b",
   "metadata": {},
   "outputs": [],
   "source": [
    "thread_time = pd.read_csv('SPM-Exam/results/thread_results_100MB.csv', index_col=None)"
   ]
  },
  {
   "cell_type": "code",
   "execution_count": null,
   "id": "6bc5b78c",
   "metadata": {},
   "outputs": [],
   "source": [
    "# Split the dataframe in two, based on the Completion time (if with or without IO)\n",
    "thread_time_completion = thread_time[thread_time['Completion time'] == 'Completion time']\n",
    "thread_time_no_io = thread_time[thread_time['Completion time'] == 'Completion time (no IO)']\n",
    "\n",
    "thread_time = thread_time_completion"
   ]
  },
  {
   "cell_type": "code",
   "execution_count": null,
   "id": "0824afc1",
   "metadata": {},
   "outputs": [],
   "source": [
    "# Compute the mean of the last column based on the penultimate column\n",
    "thread_time = thread_time.groupby(thread_time.columns[-2])[thread_time.columns[-1]].mean()\n",
    "thread_time_no_io = thread_time_no_io.groupby(thread_time_no_io.columns[-2])[thread_time_no_io.columns[-1]].mean()"
   ]
  },
  {
   "cell_type": "markdown",
   "id": "eea32278",
   "metadata": {},
   "source": [
    "### Fastflow time computation"
   ]
  },
  {
   "cell_type": "code",
   "execution_count": null,
   "id": "ef0ed127",
   "metadata": {},
   "outputs": [],
   "source": [
    "## TODO"
   ]
  },
  {
   "cell_type": "markdown",
   "id": "dfa2b113",
   "metadata": {},
   "source": [
    "## Plots"
   ]
  },
  {
   "cell_type": "markdown",
   "id": "b71d4613",
   "metadata": {},
   "source": [
    "### Completion time"
   ]
  },
  {
   "cell_type": "code",
   "execution_count": null,
   "id": "4f76bffa",
   "metadata": {},
   "outputs": [],
   "source": [
    "plt.plot(ideal_time['number of threads'], ideal_time['Completion time']/1e6, c='0.90')\n",
    "\n",
    "plt.plot(thread_time.index, thread_time.values/1e6, marker='o', c='0.60')\n",
    "#plt.plot(ff.index, ff.values, marker='^', c='0.25')\n",
    "plt.xlabel('Threads')\n",
    "plt.ylabel('Completion time (sec)')\n",
    "plt.legend([\"Ideal time\", \"Native threads\", \"FastFlow\"], loc=0, frameon=True)\n",
    "plt.title(\"Completion time (100MB file)\")\n",
    "plt.savefig('Completion_100MB.png', bbox_inches='tight')\n",
    "plt.show()"
   ]
  },
  {
   "cell_type": "markdown",
   "id": "55514253",
   "metadata": {},
   "source": [
    "### Speedup"
   ]
  },
  {
   "cell_type": "code",
   "execution_count": null,
   "id": "1bcaaeec",
   "metadata": {},
   "outputs": [],
   "source": [
    "speedup_thread = []\n",
    "#speedup_ff = []"
   ]
  },
  {
   "cell_type": "code",
   "execution_count": null,
   "id": "a6c2c78c",
   "metadata": {},
   "outputs": [],
   "source": [
    "for i in range (0, len(thread_time)):\n",
    "    speedup_thread.append([thread_time.index[i], seq_time/thread_time.iat[i]])\n",
    "    \n",
    "#for i in range (0, len(ff_time)):\n",
    "#    speedup_ff.append([ff_time.index[i], seq_time/ff_time.iat[i]])\n",
    "    \n",
    "speedup_thread = pd.DataFrame(speedup_thread, columns=['Number of threads', 'Speedup'])\n",
    "#speedup_ff = pd.DataFrame(speedup_ff, columns=['Number of threads', 'Speedup'])\n",
    "\n",
    "plt.plot([1, 10], [1, 10], c='0.9')\n",
    "plt.plot(speedup_thread['Number of threads'], speedup_thread['Speedup'], marker='o', c='0.6')\n",
    "#plt.plot(speedup_ff['Number of threads'], speedup_ff['Speedup'], marker='^', c='0.25')\n",
    "\n",
    "plt.ylabel('Speedup factor')\n",
    "plt.xlabel(\"Threads\")\n",
    "plt.legend([\"Ideal speedup\", \"Native threads\", \"FastFlow\"], loc=0, frameon=True)\n",
    "plt.title(\"Speedup (100MB file)\")\n",
    "plt.savefig('Speedup_100MB.png', bbox_inches='tight')\n",
    "plt.show()"
   ]
  },
  {
   "cell_type": "markdown",
   "id": "d4440f23",
   "metadata": {},
   "source": [
    "### Scalability"
   ]
  },
  {
   "cell_type": "code",
   "execution_count": null,
   "id": "888fd714",
   "metadata": {},
   "outputs": [],
   "source": [
    "parallel_time_thread_1 = thread_time.iat[0]\n",
    "#parallel_time_ff_1 = ff_time.iat[0]\n",
    "\n",
    "scalability_thread = []\n",
    "scalability_ff = []"
   ]
  },
  {
   "cell_type": "code",
   "execution_count": null,
   "id": "1beac917",
   "metadata": {
    "scrolled": true
   },
   "outputs": [],
   "source": [
    "for i in range (0, len(thread_time)):\n",
    "    scalability_thread.append([thread_time.index[i], parallel_time_thread_1/thread_time.iat[i]])\n",
    "\n",
    "#for i in range (0, len(ff_time)):\n",
    "#    scalability_ff.append([ff_time.index[i], parallel_time_ff_1/ff_time.iat[i]])\n",
    "\n",
    "scalability_thread = pd.DataFrame(scalability_thread, columns=['Number of threads', 'Scalability'])\n",
    "#scalability_ff = pd.DataFrame(scalability_ff, columns=['Number of threads', 'Scalability'])\n",
    "\n",
    "plt.plot(scalability_thread['Number of threads'], scalability_thread['Scalability'], marker='o', c='0.6')\n",
    "#plt.plot(scalability_ff['Number of threads'], scalability_ff['Scalability'], marker='^', c='0.15')\n",
    "\n",
    "plt.ylabel(\"Scalability factor\")\n",
    "plt.xlabel(\"Threads\")\n",
    "plt.legend([\"Native threads\", \"Fastflow\"], loc=0, frameon=True)\n",
    "plt.title(\"Scalability (100MB file)\")\n",
    "plt.savefig('Scalability_100MB.png', bbox_inches='tight')\n",
    "plt.show()"
   ]
  },
  {
   "cell_type": "markdown",
   "id": "471d90bd",
   "metadata": {},
   "source": [
    "# \n",
    "# \n",
    "# \n",
    "# \n",
    "# \n",
    "# \n",
    "# \n",
    "# \n",
    "# \n",
    "# \n",
    "# \n",
    "# \n",
    "# \n",
    "# \n",
    "# \n",
    "# Plots with no IO time"
   ]
  },
  {
   "cell_type": "markdown",
   "id": "40c74d72",
   "metadata": {},
   "source": [
    "## 1 MB file"
   ]
  },
  {
   "cell_type": "markdown",
   "id": "4341811f",
   "metadata": {},
   "source": [
    "### Sequential time computation"
   ]
  },
  {
   "cell_type": "code",
   "execution_count": null,
   "id": "1e9d6151",
   "metadata": {
    "scrolled": true
   },
   "outputs": [],
   "source": [
    "sequential_time = pd.read_csv('SPM-Exam/results/seq_results_1MB.csv', index_col=None)"
   ]
  },
  {
   "cell_type": "code",
   "execution_count": null,
   "id": "40f40235",
   "metadata": {},
   "outputs": [],
   "source": [
    "# Compute the mean of the last column based on the penultimate column\n",
    "sequential_time = sequential_time.groupby(sequential_time.columns[-2])[sequential_time.columns[-1]].mean()"
   ]
  },
  {
   "cell_type": "code",
   "execution_count": null,
   "id": "5b470d92",
   "metadata": {},
   "outputs": [],
   "source": [
    "seq_time = sequential_time[0]\n",
    "ideal_time = [[1, seq_time]]\n",
    "\n",
    "for i in range (2, 33, 2):\n",
    "    ideal_time.append([i, seq_time/i])\n",
    "\n",
    "ideal_time = pd.DataFrame(ideal_time, columns=['number of threads', 'Completion time'])"
   ]
  },
  {
   "cell_type": "markdown",
   "id": "78eaca95",
   "metadata": {},
   "source": [
    "### Native threads time computation"
   ]
  },
  {
   "cell_type": "code",
   "execution_count": null,
   "id": "5297bdff",
   "metadata": {},
   "outputs": [],
   "source": [
    "thread_time = pd.read_csv('SPM-Exam/results/thread_results_1MB.csv', index_col=None)"
   ]
  },
  {
   "cell_type": "code",
   "execution_count": null,
   "id": "bdfa7f2a",
   "metadata": {},
   "outputs": [],
   "source": [
    "# Split the dataframe in two, based on the Completion time (if with or without IO)\n",
    "thread_time_completion = thread_time[thread_time['Completion time'] == 'Completion time']\n",
    "thread_time_no_io = thread_time[thread_time['Completion time'] == 'Completion time (no IO)']\n",
    "\n",
    "thread_time = thread_time_no_io"
   ]
  },
  {
   "cell_type": "code",
   "execution_count": null,
   "id": "96656669",
   "metadata": {},
   "outputs": [],
   "source": [
    "# Compute the mean of the last column based on the penultimate column\n",
    "thread_time = thread_time.groupby(thread_time.columns[-2])[thread_time.columns[-1]].mean()\n",
    "thread_time_no_io = thread_time_no_io.groupby(thread_time_no_io.columns[-2])[thread_time_no_io.columns[-1]].mean()"
   ]
  },
  {
   "cell_type": "markdown",
   "id": "4497ee52",
   "metadata": {},
   "source": [
    "### Fastflow time computation"
   ]
  },
  {
   "cell_type": "code",
   "execution_count": null,
   "id": "994721a5",
   "metadata": {},
   "outputs": [],
   "source": [
    "## TODO"
   ]
  },
  {
   "cell_type": "markdown",
   "id": "a85cc216",
   "metadata": {},
   "source": [
    "## Plots"
   ]
  },
  {
   "cell_type": "markdown",
   "id": "fb8e2bc6",
   "metadata": {},
   "source": [
    "### Completion time"
   ]
  },
  {
   "cell_type": "code",
   "execution_count": null,
   "id": "fb904fdb",
   "metadata": {},
   "outputs": [],
   "source": [
    "plt.plot(ideal_time['number of threads'], ideal_time['Completion time']/1e6, c='0.90')\n",
    "\n",
    "plt.plot(thread_time.index, thread_time.values/1e6, marker='o', c='0.60')\n",
    "#plt.plot(ff.index, ff.values, marker='^', c='0.25')\n",
    "plt.xlabel('Threads')\n",
    "plt.ylabel('Completion time (sec)')\n",
    "plt.legend([\"Ideal time\", \"Native threads\", \"FastFlow\"], loc=0, frameon=True)\n",
    "plt.title(\"Completion time (1MB file)\")\n",
    "plt.savefig('Completion_1MB.png', bbox_inches='tight')\n",
    "plt.show()"
   ]
  },
  {
   "cell_type": "markdown",
   "id": "7cd2c0d1",
   "metadata": {},
   "source": [
    "### Speedup"
   ]
  },
  {
   "cell_type": "code",
   "execution_count": null,
   "id": "5b133d1d",
   "metadata": {},
   "outputs": [],
   "source": [
    "speedup_thread = []\n",
    "#speedup_ff = []"
   ]
  },
  {
   "cell_type": "code",
   "execution_count": null,
   "id": "c0fab50d",
   "metadata": {},
   "outputs": [],
   "source": [
    "for i in range (0, len(thread_time)):\n",
    "    speedup_thread.append([thread_time.index[i], seq_time/thread_time.iat[i]])\n",
    "    \n",
    "#for i in range (0, len(ff_time)):\n",
    "#    speedup_ff.append([ff_time.index[i], seq_time/ff_time.iat[i]])\n",
    "    \n",
    "speedup_thread = pd.DataFrame(speedup_thread, columns=['Number of threads', 'Speedup'])\n",
    "#speedup_ff = pd.DataFrame(speedup_ff, columns=['Number of threads', 'Speedup'])\n",
    "\n",
    "plt.plot([1, 10], [1, 10], c='0.9')\n",
    "plt.plot(speedup_thread['Number of threads'], speedup_thread['Speedup'], marker='o', c='0.6')\n",
    "#plt.plot(speedup_ff['Number of threads'], speedup_ff['Speedup'], marker='^', c='0.25')\n",
    "\n",
    "plt.ylabel('Speedup factor')\n",
    "plt.xlabel(\"Threads\")\n",
    "plt.legend([\"Ideal speedup\", \"Native threads\", \"FastFlow\"], loc=0, frameon=True)\n",
    "plt.title(\"Speedup (1MB file)\")\n",
    "plt.savefig('Speedup_1MB.png', bbox_inches='tight')\n",
    "plt.show()"
   ]
  },
  {
   "cell_type": "markdown",
   "id": "4428833d",
   "metadata": {},
   "source": [
    "### Scalability"
   ]
  },
  {
   "cell_type": "code",
   "execution_count": null,
   "id": "393163e8",
   "metadata": {},
   "outputs": [],
   "source": [
    "parallel_time_thread_1 = thread_time.iat[0]\n",
    "#parallel_time_ff_1 = ff_time.iat[0]\n",
    "\n",
    "scalability_thread = []\n",
    "scalability_ff = []"
   ]
  },
  {
   "cell_type": "code",
   "execution_count": null,
   "id": "2f3a19a9",
   "metadata": {},
   "outputs": [],
   "source": [
    "for i in range (0, len(thread_time)):\n",
    "    scalability_thread.append([thread_time.index[i], parallel_time_thread_1/thread_time.iat[i]])\n",
    "\n",
    "#for i in range (0, len(ff_time)):\n",
    "#    scalability_ff.append([ff_time.index[i], parallel_time_ff_1/ff_time.iat[i]])\n",
    "\n",
    "scalability_thread = pd.DataFrame(scalability_thread, columns=['Number of threads', 'Scalability'])\n",
    "#scalability_ff = pd.DataFrame(scalability_ff, columns=['Number of threads', 'Scalability'])\n",
    "\n",
    "plt.plot(scalability_thread['Number of threads'], scalability_thread['Scalability'], marker='o', c='0.6')\n",
    "#plt.plot(scalability_ff['Number of threads'], scalability_ff['Scalability'], marker='^', c='0.15')\n",
    "\n",
    "plt.ylabel(\"Scalability factor\")\n",
    "plt.xlabel(\"Threads\")\n",
    "plt.legend([\"Native threads\", \"Fastflow\"], loc=0, frameon=True)\n",
    "plt.title(\"Scalability (1MB file)\")\n",
    "plt.savefig('Scalability_1MB.png', bbox_inches='tight')\n",
    "plt.show()"
   ]
  },
  {
   "cell_type": "markdown",
   "id": "3df881e1",
   "metadata": {},
   "source": [
    "# 10 MB file"
   ]
  },
  {
   "cell_type": "markdown",
   "id": "3ed09ae2",
   "metadata": {},
   "source": [
    "### Sequential time computation"
   ]
  },
  {
   "cell_type": "code",
   "execution_count": null,
   "id": "c6eeb260",
   "metadata": {},
   "outputs": [],
   "source": [
    "sequential_time = pd.read_csv('SPM-Exam/results/seq_results_10MB.csv', index_col=None)"
   ]
  },
  {
   "cell_type": "code",
   "execution_count": null,
   "id": "dd97539e",
   "metadata": {},
   "outputs": [],
   "source": [
    "# Compute the mean of the last column based on the penultimate column\n",
    "sequential_time = sequential_time.groupby(sequential_time.columns[-2])[sequential_time.columns[-1]].mean()"
   ]
  },
  {
   "cell_type": "code",
   "execution_count": null,
   "id": "d57c4b4c",
   "metadata": {},
   "outputs": [],
   "source": [
    "seq_time = sequential_time[0]\n",
    "ideal_time = [[1, seq_time]]\n",
    "\n",
    "for i in range (2, 33, 2):\n",
    "    ideal_time.append([i, seq_time/i])\n",
    "\n",
    "ideal_time = pd.DataFrame(ideal_time, columns=['number of threads', 'Completion time'])"
   ]
  },
  {
   "cell_type": "markdown",
   "id": "d3898e0d",
   "metadata": {},
   "source": [
    "### Native threads time computation"
   ]
  },
  {
   "cell_type": "code",
   "execution_count": null,
   "id": "4dd0dfbb",
   "metadata": {},
   "outputs": [],
   "source": [
    "thread_time = pd.read_csv('SPM-Exam/results/thread_results_10MB.csv', index_col=None)"
   ]
  },
  {
   "cell_type": "code",
   "execution_count": null,
   "id": "742184a0",
   "metadata": {},
   "outputs": [],
   "source": [
    "# Split the dataframe in two, based on the Completion time (if with or without IO)\n",
    "thread_time_completion = thread_time[thread_time['Completion time'] == 'Completion time']\n",
    "thread_time_no_io = thread_time[thread_time['Completion time'] == 'Completion time (no IO)']\n",
    "\n",
    "thread_time = thread_time_completion"
   ]
  },
  {
   "cell_type": "code",
   "execution_count": null,
   "id": "0cfa68b5",
   "metadata": {},
   "outputs": [],
   "source": [
    "# Compute the mean of the last column based on the penultimate column\n",
    "thread_time = thread_time.groupby(thread_time.columns[-2])[thread_time.columns[-1]].mean()\n",
    "thread_time_no_io = thread_time_no_io.groupby(thread_time_no_io.columns[-2])[thread_time_no_io.columns[-1]].mean()"
   ]
  },
  {
   "cell_type": "markdown",
   "id": "46c33353",
   "metadata": {},
   "source": [
    "### Fastflow time computation"
   ]
  },
  {
   "cell_type": "code",
   "execution_count": null,
   "id": "8cb3e832",
   "metadata": {},
   "outputs": [],
   "source": [
    "## TODO"
   ]
  },
  {
   "cell_type": "markdown",
   "id": "bbc0ee73",
   "metadata": {},
   "source": [
    "## Plots"
   ]
  },
  {
   "cell_type": "markdown",
   "id": "de37f346",
   "metadata": {},
   "source": [
    "### Completion time"
   ]
  },
  {
   "cell_type": "code",
   "execution_count": null,
   "id": "0896d3e5",
   "metadata": {},
   "outputs": [],
   "source": [
    "plt.plot(ideal_time['number of threads'], ideal_time['Completion time']/1e6, c='0.90')\n",
    "\n",
    "plt.plot(thread_time.index, thread_time.values/1e6, marker='o', c='0.60')\n",
    "#plt.plot(ff.index, ff.values, marker='^', c='0.25')\n",
    "plt.xlabel('Threads')\n",
    "plt.ylabel('Completion time (sec)')\n",
    "plt.legend([\"Ideal time\", \"Native threads\", \"FastFlow\"], loc=0, frameon=True)\n",
    "plt.title(\"Completion time (10MB file)\")\n",
    "plt.savefig('Completion_10MB.png', bbox_inches='tight')\n",
    "plt.show()"
   ]
  },
  {
   "cell_type": "markdown",
   "id": "41a92748",
   "metadata": {},
   "source": [
    "### Speedup"
   ]
  },
  {
   "cell_type": "code",
   "execution_count": null,
   "id": "594cd950",
   "metadata": {},
   "outputs": [],
   "source": [
    "speedup_thread = []\n",
    "#speedup_ff = []"
   ]
  },
  {
   "cell_type": "code",
   "execution_count": null,
   "id": "45a609ac",
   "metadata": {},
   "outputs": [],
   "source": [
    "for i in range (0, len(thread_time)):\n",
    "    speedup_thread.append([thread_time.index[i], seq_time/thread_time.iat[i]])\n",
    "    \n",
    "#for i in range (0, len(ff_time)):\n",
    "#    speedup_ff.append([ff_time.index[i], seq_time/ff_time.iat[i]])\n",
    "    \n",
    "speedup_thread = pd.DataFrame(speedup_thread, columns=['Number of threads', 'Speedup'])\n",
    "#speedup_ff = pd.DataFrame(speedup_ff, columns=['Number of threads', 'Speedup'])\n",
    "\n",
    "plt.plot([1, 10], [1, 10], c='0.9')\n",
    "plt.plot(speedup_thread['Number of threads'], speedup_thread['Speedup'], marker='o', c='0.6')\n",
    "#plt.plot(speedup_ff['Number of threads'], speedup_ff['Speedup'], marker='^', c='0.25')\n",
    "\n",
    "plt.ylabel('Speedup factor')\n",
    "plt.xlabel(\"Threads\")\n",
    "plt.legend([\"Ideal speedup\", \"Native threads\", \"FastFlow\"], loc=0, frameon=True)\n",
    "plt.title(\"Speedup (10MB file)\")\n",
    "plt.savefig('Speedup_10MB.png', bbox_inches='tight')\n",
    "plt.show()"
   ]
  },
  {
   "cell_type": "markdown",
   "id": "4cdb6bb9",
   "metadata": {},
   "source": [
    "### Scalability"
   ]
  },
  {
   "cell_type": "code",
   "execution_count": null,
   "id": "42f69ded",
   "metadata": {},
   "outputs": [],
   "source": [
    "parallel_time_thread_1 = thread_time.iat[0]\n",
    "#parallel_time_ff_1 = ff_time.iat[0]\n",
    "\n",
    "scalability_thread = []\n",
    "scalability_ff = []"
   ]
  },
  {
   "cell_type": "code",
   "execution_count": null,
   "id": "c0dfc3b1",
   "metadata": {},
   "outputs": [],
   "source": [
    "for i in range (0, len(thread_time)):\n",
    "    scalability_thread.append([thread_time.index[i], parallel_time_thread_1/thread_time.iat[i]])\n",
    "\n",
    "#for i in range (0, len(ff_time)):\n",
    "#    scalability_ff.append([ff_time.index[i], parallel_time_ff_1/ff_time.iat[i]])\n",
    "\n",
    "scalability_thread = pd.DataFrame(scalability_thread, columns=['Number of threads', 'Scalability'])\n",
    "#scalability_ff = pd.DataFrame(scalability_ff, columns=['Number of threads', 'Scalability'])\n",
    "\n",
    "plt.plot(scalability_thread['Number of threads'], scalability_thread['Scalability'], marker='o', c='0.6')\n",
    "#plt.plot(scalability_ff['Number of threads'], scalability_ff['Scalability'], marker='^', c='0.15')\n",
    "\n",
    "plt.ylabel(\"Scalability factor\")\n",
    "plt.xlabel(\"Threads\")\n",
    "plt.legend([\"Native threads\", \"Fastflow\"], loc=0, frameon=True)\n",
    "plt.title(\"Scalability (10MB file)\")\n",
    "plt.savefig('Scalability_10MB.png', bbox_inches='tight')\n",
    "plt.show()"
   ]
  },
  {
   "cell_type": "markdown",
   "id": "cac50828",
   "metadata": {},
   "source": [
    "# 100 MB file"
   ]
  },
  {
   "cell_type": "markdown",
   "id": "703d84d2",
   "metadata": {},
   "source": [
    "### Sequential time computation"
   ]
  },
  {
   "cell_type": "code",
   "execution_count": null,
   "id": "a027bbde",
   "metadata": {},
   "outputs": [],
   "source": [
    "sequential_time = pd.read_csv('SPM-Exam/results/seq_results_100MB.csv', index_col=None)"
   ]
  },
  {
   "cell_type": "code",
   "execution_count": null,
   "id": "e1c114ce",
   "metadata": {},
   "outputs": [],
   "source": [
    "# Compute the mean of the last column based on the penultimate column\n",
    "sequential_time = sequential_time.groupby(sequential_time.columns[-2])[sequential_time.columns[-1]].mean()"
   ]
  },
  {
   "cell_type": "code",
   "execution_count": null,
   "id": "2f3eea7f",
   "metadata": {},
   "outputs": [],
   "source": [
    "seq_time = sequential_time[0]\n",
    "ideal_time = [[1, seq_time]]\n",
    "\n",
    "for i in range (2, 33, 2):\n",
    "    ideal_time.append([i, seq_time/i])\n",
    "\n",
    "ideal_time = pd.DataFrame(ideal_time, columns=['number of threads', 'Completion time'])"
   ]
  },
  {
   "cell_type": "markdown",
   "id": "25660689",
   "metadata": {},
   "source": [
    "### Native threads time computation"
   ]
  },
  {
   "cell_type": "code",
   "execution_count": null,
   "id": "75dd3756",
   "metadata": {},
   "outputs": [],
   "source": [
    "thread_time = pd.read_csv('SPM-Exam/results/thread_results_100MB.csv', index_col=None)"
   ]
  },
  {
   "cell_type": "code",
   "execution_count": null,
   "id": "a75961c1",
   "metadata": {},
   "outputs": [],
   "source": [
    "# Split the dataframe in two, based on the Completion time (if with or without IO)\n",
    "thread_time_completion = thread_time[thread_time['Completion time'] == 'Completion time']\n",
    "thread_time_no_io = thread_time[thread_time['Completion time'] == 'Completion time (no IO)']\n",
    "\n",
    "thread_time = thread_time_completion"
   ]
  },
  {
   "cell_type": "code",
   "execution_count": null,
   "id": "6ef58f3b",
   "metadata": {},
   "outputs": [],
   "source": [
    "# Compute the mean of the last column based on the penultimate column\n",
    "thread_time = thread_time.groupby(thread_time.columns[-2])[thread_time.columns[-1]].mean()\n",
    "thread_time_no_io = thread_time_no_io.groupby(thread_time_no_io.columns[-2])[thread_time_no_io.columns[-1]].mean()"
   ]
  },
  {
   "cell_type": "markdown",
   "id": "f812a037",
   "metadata": {},
   "source": [
    "### Fastflow time computation"
   ]
  },
  {
   "cell_type": "code",
   "execution_count": null,
   "id": "9714eb93",
   "metadata": {},
   "outputs": [],
   "source": [
    "## TODO"
   ]
  },
  {
   "cell_type": "markdown",
   "id": "2a764a79",
   "metadata": {},
   "source": [
    "## Plots"
   ]
  },
  {
   "cell_type": "markdown",
   "id": "8a7e5943",
   "metadata": {},
   "source": [
    "### Completion time"
   ]
  },
  {
   "cell_type": "code",
   "execution_count": null,
   "id": "75dbfe64",
   "metadata": {},
   "outputs": [],
   "source": [
    "plt.plot(ideal_time['number of threads'], ideal_time['Completion time']/1e6, c='0.90')\n",
    "\n",
    "plt.plot(thread_time.index, thread_time.values/1e6, marker='o', c='0.60')\n",
    "#plt.plot(ff.index, ff.values, marker='^', c='0.25')\n",
    "plt.xlabel('Threads')\n",
    "plt.ylabel('Completion time (sec)')\n",
    "plt.legend([\"Ideal time\", \"Native threads\", \"FastFlow\"], loc=0, frameon=True)\n",
    "plt.title(\"Completion time (100MB file)\")\n",
    "plt.savefig('Completion_100MB.png', bbox_inches='tight')\n",
    "plt.show()"
   ]
  },
  {
   "cell_type": "markdown",
   "id": "741ba7bd",
   "metadata": {},
   "source": [
    "### Speedup"
   ]
  },
  {
   "cell_type": "code",
   "execution_count": null,
   "id": "89d020f9",
   "metadata": {},
   "outputs": [],
   "source": [
    "speedup_thread = []\n",
    "#speedup_ff = []"
   ]
  },
  {
   "cell_type": "code",
   "execution_count": null,
   "id": "6c9fb06c",
   "metadata": {},
   "outputs": [],
   "source": [
    "for i in range (0, len(thread_time)):\n",
    "    speedup_thread.append([thread_time.index[i], seq_time/thread_time.iat[i]])\n",
    "    \n",
    "#for i in range (0, len(ff_time)):\n",
    "#    speedup_ff.append([ff_time.index[i], seq_time/ff_time.iat[i]])\n",
    "    \n",
    "speedup_thread = pd.DataFrame(speedup_thread, columns=['Number of threads', 'Speedup'])\n",
    "#speedup_ff = pd.DataFrame(speedup_ff, columns=['Number of threads', 'Speedup'])\n",
    "\n",
    "plt.plot([1, 10], [1, 10], c='0.9')\n",
    "plt.plot(speedup_thread['Number of threads'], speedup_thread['Speedup'], marker='o', c='0.6')\n",
    "#plt.plot(speedup_ff['Number of threads'], speedup_ff['Speedup'], marker='^', c='0.25')\n",
    "\n",
    "plt.ylabel('Speedup factor')\n",
    "plt.xlabel(\"Threads\")\n",
    "plt.legend([\"Ideal speedup\", \"Native threads\", \"FastFlow\"], loc=0, frameon=True)\n",
    "plt.title(\"Speedup (100MB file)\")\n",
    "plt.savefig('Speedup_100MB.png', bbox_inches='tight')\n",
    "plt.show()"
   ]
  },
  {
   "cell_type": "markdown",
   "id": "7222928a",
   "metadata": {},
   "source": [
    "### Scalability"
   ]
  },
  {
   "cell_type": "code",
   "execution_count": null,
   "id": "8e10a54f",
   "metadata": {},
   "outputs": [],
   "source": [
    "parallel_time_thread_1 = thread_time.iat[0]\n",
    "#parallel_time_ff_1 = ff_time.iat[0]\n",
    "\n",
    "scalability_thread = []\n",
    "scalability_ff = []"
   ]
  },
  {
   "cell_type": "code",
   "execution_count": null,
   "id": "33bae521",
   "metadata": {},
   "outputs": [],
   "source": [
    "for i in range (0, len(thread_time)):\n",
    "    scalability_thread.append([thread_time.index[i], parallel_time_thread_1/thread_time.iat[i]])\n",
    "\n",
    "#for i in range (0, len(ff_time)):\n",
    "#    scalability_ff.append([ff_time.index[i], parallel_time_ff_1/ff_time.iat[i]])\n",
    "\n",
    "scalability_thread = pd.DataFrame(scalability_thread, columns=['Number of threads', 'Scalability'])\n",
    "#scalability_ff = pd.DataFrame(scalability_ff, columns=['Number of threads', 'Scalability'])\n",
    "\n",
    "plt.plot(scalability_thread['Number of threads'], scalability_thread['Scalability'], marker='o', c='0.6')\n",
    "#plt.plot(scalability_ff['Number of threads'], scalability_ff['Scalability'], marker='^', c='0.15')\n",
    "\n",
    "plt.ylabel(\"Scalability factor\")\n",
    "plt.xlabel(\"Threads\")\n",
    "plt.legend([\"Native threads\", \"Fastflow\"], loc=0, frameon=True)\n",
    "plt.title(\"Scalability (100MB file)\")\n",
    "plt.savefig('Scalability_100MB.png', bbox_inches='tight')\n",
    "plt.show()"
   ]
  }
 ],
 "metadata": {
  "kernelspec": {
   "display_name": "Python 3 (ipykernel)",
   "language": "python",
   "name": "python3"
  },
  "language_info": {
   "codemirror_mode": {
    "name": "ipython",
    "version": 3
   },
   "file_extension": ".py",
   "mimetype": "text/x-python",
   "name": "python",
   "nbconvert_exporter": "python",
   "pygments_lexer": "ipython3",
   "version": "3.9.13"
  }
 },
 "nbformat": 4,
 "nbformat_minor": 5
}
